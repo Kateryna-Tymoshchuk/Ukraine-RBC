{
 "cells": [
  {
   "cell_type": "code",
   "execution_count": 20,
   "id": "ffdee163-74e0-42b3-b85f-e1df86d3e48f",
   "metadata": {},
   "outputs": [],
   "source": [
    "import gEconpy as ge\n",
    "import gEconpy.plotting as gp\n",
    "import matplotlib.pyplot as plt\n",
    "import numpy as np\n",
    "\n",
    "import pandas as pd\n",
    "import statsmodels.api as sm\n",
    "\n",
    "config = {\n",
    "    'figure.figsize':(14,4),\n",
    "    'figure.dpi':144,\n",
    "    'figure.facecolor':'white',\n",
    "    'axes.grid':True,\n",
    "    'grid.linestyle':'--',\n",
    "    'grid.linewidth':0.5,\n",
    "    'axes.spines.top':False,\n",
    "    'axes.spines.bottom':False,\n",
    "    'axes.spines.left':False,\n",
    "    'axes.spines.right':False\n",
    "}\n",
    "\n",
    "plt.rcParams.update(config)"
   ]
  },
  {
   "cell_type": "code",
   "execution_count": 21,
   "id": "f9636652-eae3-4b76-816c-dd8f4ca6d976",
   "metadata": {},
   "outputs": [],
   "source": [
    "from pandas_datareader import fred, wb\n",
    "import pandas as pd"
   ]
  },
  {
   "cell_type": "code",
   "execution_count": 22,
   "id": "b1ee1bc9-6f15-4334-aaf3-2eb43788b587",
   "metadata": {},
   "outputs": [
    {
     "name": "stdout",
     "output_type": "stream",
     "text": [
      "Note: you may need to restart the kernel to use updated packages.\n"
     ]
    }
   ],
   "source": [
    "pip install --upgrade pandas openpyxl xlrd -q"
   ]
  },
  {
   "cell_type": "code",
   "execution_count": 5,
   "id": "a78c6a26-9914-4ddc-b8db-a06dbb6cd7f0",
   "metadata": {},
   "outputs": [],
   "source": [
    "#INTERST RATE"
   ]
  },
  {
   "cell_type": "code",
   "execution_count": 23,
   "id": "681cd0e0-c232-4d59-89ca-22851efea5b9",
   "metadata": {},
   "outputs": [
    {
     "name": "stdout",
     "output_type": "stream",
     "text": [
      "/Users/katerynatymoshchuk: /Users/katerynatymoshchuk/Desktop/Macro project python\n",
      "Updated working directory: /Users/katerynatymoshchuk/Desktop/Macro project python\n"
     ]
    }
   ],
   "source": [
    "import os\n",
    "\n",
    "# Get the current working directory\n",
    "current_directory = os.getcwd()\n",
    "print(f\"/Users/katerynatymoshchuk: {current_directory}\")\n",
    "\n",
    "# Specify the full path to the new directory\n",
    "new_directory = '//Users/katerynatymoshchuk/Desktop/Macro project python'\n",
    "\n",
    "# Change the working directory to the new path\n",
    "os.chdir(new_directory)\n",
    "\n",
    "# Verify the change in the working directory\n",
    "updated_directory = os.getcwd()\n",
    "print(f\"Updated working directory: {updated_directory}\")"
   ]
  },
  {
   "cell_type": "code",
   "execution_count": 24,
   "id": "0a204cbb-4d93-4bb0-a1a2-bd60c15f07d0",
   "metadata": {},
   "outputs": [
    {
     "data": {
      "text/html": [
       "<div>\n",
       "<style scoped>\n",
       "    .dataframe tbody tr th:only-of-type {\n",
       "        vertical-align: middle;\n",
       "    }\n",
       "\n",
       "    .dataframe tbody tr th {\n",
       "        vertical-align: top;\n",
       "    }\n",
       "\n",
       "    .dataframe thead th {\n",
       "        text-align: right;\n",
       "    }\n",
       "</style>\n",
       "<table border=\"1\" class=\"dataframe\">\n",
       "  <thead>\n",
       "    <tr style=\"text-align: right;\">\n",
       "      <th></th>\n",
       "      <th>r_G</th>\n",
       "    </tr>\n",
       "    <tr>\n",
       "      <th>Date</th>\n",
       "      <th></th>\n",
       "    </tr>\n",
       "  </thead>\n",
       "  <tbody>\n",
       "    <tr>\n",
       "      <th>1992-12-10</th>\n",
       "      <td>80.0</td>\n",
       "    </tr>\n",
       "    <tr>\n",
       "      <th>1992-12-11</th>\n",
       "      <td>80.0</td>\n",
       "    </tr>\n",
       "    <tr>\n",
       "      <th>1992-12-12</th>\n",
       "      <td>80.0</td>\n",
       "    </tr>\n",
       "    <tr>\n",
       "      <th>1992-12-13</th>\n",
       "      <td>80.0</td>\n",
       "    </tr>\n",
       "    <tr>\n",
       "      <th>1992-12-14</th>\n",
       "      <td>80.0</td>\n",
       "    </tr>\n",
       "  </tbody>\n",
       "</table>\n",
       "</div>"
      ],
      "text/plain": [
       "             r_G\n",
       "Date            \n",
       "1992-12-10  80.0\n",
       "1992-12-11  80.0\n",
       "1992-12-12  80.0\n",
       "1992-12-13  80.0\n",
       "1992-12-14  80.0"
      ]
     },
     "execution_count": 24,
     "metadata": {},
     "output_type": "execute_result"
    }
   ],
   "source": [
    "import pandas as pd\n",
    "\n",
    "file_path = '/Users/katerynatymoshchuk/Desktop/Macro project python/NBU_interest_rates.xlsx'\n",
    "df = pd.read_excel(file_path, engine='openpyxl')\n",
    "df.Date=pd.to_datetime(df.Date,dayfirst=True)\n",
    "df = df.iloc[:, :2]\n",
    "df = df.rename(columns={'Key policy rate, % P. A.' : 'r_G'})\n",
    "df.set_index('Date',inplace=True)\n",
    "df.head()"
   ]
  },
  {
   "cell_type": "code",
   "execution_count": 25,
   "id": "cfa30c33-aa62-4cc4-b623-e44630daef4e",
   "metadata": {},
   "outputs": [
    {
     "data": {
      "text/plain": [
       "Date\n",
       "1992-12-10    80.0\n",
       "1992-12-11    80.0\n",
       "1992-12-12    80.0\n",
       "1992-12-13    80.0\n",
       "1992-12-14    80.0\n",
       "Name: r_G, dtype: float64"
      ]
     },
     "execution_count": 25,
     "metadata": {},
     "output_type": "execute_result"
    }
   ],
   "source": [
    "r_G = df['r_G'].copy()\n",
    "r_G.head()\n"
   ]
  },
  {
   "cell_type": "code",
   "execution_count": 26,
   "id": "53c6d146-6a5f-411b-8714-999a64ec1779",
   "metadata": {},
   "outputs": [
    {
     "data": {
      "text/plain": [
       "Date\n",
       "1992-10-01    1.158292\n",
       "1993-01-01    1.158292\n",
       "1993-04-01    1.189207\n",
       "1993-07-01    1.357906\n",
       "1993-10-01    1.357906\n",
       "Freq: QS-JAN, Name: r_G, dtype: float64"
      ]
     },
     "execution_count": 26,
     "metadata": {},
     "output_type": "execute_result"
    }
   ],
   "source": [
    "def compound_interest(monthly_interests):\n",
    "    quarterly_interest = (1 + monthly_interests).prod() - 1\n",
    "    return quarterly_interest\n",
    "\n",
    "# Multiply by 0.01 (divide by 100) to covert percents to decimals\n",
    "r_G_decimal = r_G.mul(1 / 100)\n",
    "\n",
    "# Resample the data to quarterly\n",
    "r_G_quarterly = r_G_decimal.resample('QS').first().add(1).pow(1/4).add(-1)\n",
    "\n",
    "# Check your model to know whether you need to add 1 to the data\n",
    "r_G_quarterly = r_G_quarterly + 1\n",
    "r_G_quarterly.head()"
   ]
  },
  {
   "cell_type": "code",
   "execution_count": 27,
   "id": "c3cb3a4f-da45-4b50-8932-762e1af105a8",
   "metadata": {},
   "outputs": [],
   "source": [
    "r_G_quarterly.to_csv('Interest_rate_processed.csv') "
   ]
  },
  {
   "cell_type": "code",
   "execution_count": 152,
   "id": "56bd1d12-ae5b-46ba-a2a3-0e8bca02e510",
   "metadata": {},
   "outputs": [
    {
     "name": "stdout",
     "output_type": "stream",
     "text": [
      "Current Working Directory: /Users/katerynatymoshchuk/Desktop/Macro project python\n"
     ]
    }
   ],
   "source": [
    "current_directory = os.getcwd()\n",
    "print(\"Current Working Directory:\", current_directory)"
   ]
  },
  {
   "cell_type": "code",
   "execution_count": null,
   "id": "8cb40c0c-aad2-4de6-837c-0493e3d29949",
   "metadata": {},
   "outputs": [],
   "source": [
    "#BONDS"
   ]
  },
  {
   "cell_type": "code",
   "execution_count": 30,
   "id": "258c52bc-222c-4ade-9de5-497e1ff0e9c9",
   "metadata": {},
   "outputs": [],
   "source": [
    "import pandas as pd\n",
    "import os\n",
    "\n",
    "current_dir = os.getcwd()\n",
    "dfs=[]\n",
    "\n",
    "file_paths = [os.path.join(current_dir,'/Users/katerynatymoshchuk/Desktop/Macro project python/bonds_USD.xlsx')]\n",
    "\n",
    "for file_path in file_paths:\n",
    "    \n",
    "    df = pd.read_excel(file_path, engine='openpyxl',parse_dates=True)\n",
    "    df.Date=pd.to_datetime(df.Date,dayfirst=True)\n",
    "    df.set_index('Date',inplace=True)\n",
    "    df.dropna(axis=1,how='all',inplace=True)\n",
    "    dfs.append(df)\n",
    "\n"
   ]
  },
  {
   "cell_type": "code",
   "execution_count": 31,
   "id": "ec2f7a78-b4e9-45a6-a6c6-9df96f34b237",
   "metadata": {},
   "outputs": [
    {
     "name": "stdout",
     "output_type": "stream",
     "text": [
      "Average wages.csv             WB and Fred Processed.ipynb\n",
      "Bonds_processed.csv           Working hours.csv\n",
      "Downloading Labor Data.ipynb  bonds_EUR.xlsx\n",
      "Interest_rate_processed.csv   bonds_UAH.xlsx\n",
      "NBU_interest_rates.xlsx       bonds_USD.xlsx\n",
      "Ukraine_RBC.ipynb\n"
     ]
    }
   ],
   "source": [
    "ls"
   ]
  },
  {
   "cell_type": "code",
   "execution_count": 32,
   "id": "611b716c-222a-4b14-accd-bb2b2cb50651",
   "metadata": {},
   "outputs": [
    {
     "name": "stdout",
     "output_type": "stream",
     "text": [
      "<class 'pandas.core.frame.DataFrame'>\n",
      "DatetimeIndex: 2845 entries, 2011-12-20 to 2023-12-08\n",
      "Data columns (total 1 columns):\n",
      " #   Column                      Non-Null Count  Dtype  \n",
      "---  ------                      --------------  -----  \n",
      " 0   Volume at par, USD million  2845 non-null   float64\n",
      "dtypes: float64(1)\n",
      "memory usage: 44.5 KB\n"
     ]
    }
   ],
   "source": [
    "df.info()"
   ]
  },
  {
   "cell_type": "code",
   "execution_count": 33,
   "id": "47a026dd-6fdb-446b-9d54-879f783e798c",
   "metadata": {},
   "outputs": [
    {
     "data": {
      "text/html": [
       "<div>\n",
       "<style scoped>\n",
       "    .dataframe tbody tr th:only-of-type {\n",
       "        vertical-align: middle;\n",
       "    }\n",
       "\n",
       "    .dataframe tbody tr th {\n",
       "        vertical-align: top;\n",
       "    }\n",
       "\n",
       "    .dataframe thead th {\n",
       "        text-align: right;\n",
       "    }\n",
       "</style>\n",
       "<table border=\"1\" class=\"dataframe\">\n",
       "  <thead>\n",
       "    <tr style=\"text-align: right;\">\n",
       "      <th></th>\n",
       "      <th>Volume at par, USD million</th>\n",
       "    </tr>\n",
       "    <tr>\n",
       "      <th>Date</th>\n",
       "      <th></th>\n",
       "    </tr>\n",
       "  </thead>\n",
       "  <tbody>\n",
       "    <tr>\n",
       "      <th>2011-12-20</th>\n",
       "      <td>96.250</td>\n",
       "    </tr>\n",
       "    <tr>\n",
       "      <th>2011-12-21</th>\n",
       "      <td>52.290</td>\n",
       "    </tr>\n",
       "    <tr>\n",
       "      <th>2011-12-22</th>\n",
       "      <td>59.262</td>\n",
       "    </tr>\n",
       "    <tr>\n",
       "      <th>2011-12-23</th>\n",
       "      <td>21.950</td>\n",
       "    </tr>\n",
       "    <tr>\n",
       "      <th>2011-12-28</th>\n",
       "      <td>11.289</td>\n",
       "    </tr>\n",
       "  </tbody>\n",
       "</table>\n",
       "</div>"
      ],
      "text/plain": [
       "            Volume at par, USD million\n",
       "Date                                  \n",
       "2011-12-20                      96.250\n",
       "2011-12-21                      52.290\n",
       "2011-12-22                      59.262\n",
       "2011-12-23                      21.950\n",
       "2011-12-28                      11.289"
      ]
     },
     "execution_count": 33,
     "metadata": {},
     "output_type": "execute_result"
    }
   ],
   "source": [
    "df.head()"
   ]
  },
  {
   "cell_type": "code",
   "execution_count": 34,
   "id": "12defbe2-ff66-4186-995a-527e9f0cedf8",
   "metadata": {},
   "outputs": [
    {
     "data": {
      "text/html": [
       "<div>\n",
       "<style scoped>\n",
       "    .dataframe tbody tr th:only-of-type {\n",
       "        vertical-align: middle;\n",
       "    }\n",
       "\n",
       "    .dataframe tbody tr th {\n",
       "        vertical-align: top;\n",
       "    }\n",
       "\n",
       "    .dataframe thead th {\n",
       "        text-align: right;\n",
       "    }\n",
       "</style>\n",
       "<table border=\"1\" class=\"dataframe\">\n",
       "  <thead>\n",
       "    <tr style=\"text-align: right;\">\n",
       "      <th></th>\n",
       "      <th>Bonds, USD billion</th>\n",
       "    </tr>\n",
       "    <tr>\n",
       "      <th>Date</th>\n",
       "      <th></th>\n",
       "    </tr>\n",
       "  </thead>\n",
       "  <tbody>\n",
       "    <tr>\n",
       "      <th>2011-12-20</th>\n",
       "      <td>96.250</td>\n",
       "    </tr>\n",
       "    <tr>\n",
       "      <th>2011-12-21</th>\n",
       "      <td>52.290</td>\n",
       "    </tr>\n",
       "    <tr>\n",
       "      <th>2011-12-22</th>\n",
       "      <td>59.262</td>\n",
       "    </tr>\n",
       "    <tr>\n",
       "      <th>2011-12-23</th>\n",
       "      <td>21.950</td>\n",
       "    </tr>\n",
       "    <tr>\n",
       "      <th>2011-12-28</th>\n",
       "      <td>11.289</td>\n",
       "    </tr>\n",
       "  </tbody>\n",
       "</table>\n",
       "</div>"
      ],
      "text/plain": [
       "            Bonds, USD billion\n",
       "Date                          \n",
       "2011-12-20              96.250\n",
       "2011-12-21              52.290\n",
       "2011-12-22              59.262\n",
       "2011-12-23              21.950\n",
       "2011-12-28              11.289"
      ]
     },
     "execution_count": 34,
     "metadata": {},
     "output_type": "execute_result"
    }
   ],
   "source": [
    "df = df.rename(columns={'Volume at par, USD million' : 'Bonds, USD billion'})\n",
    "df.head()"
   ]
  },
  {
   "cell_type": "code",
   "execution_count": 39,
   "id": "c9750473-370f-4ab8-b7c6-9b1728721ca5",
   "metadata": {},
   "outputs": [
    {
     "data": {
      "text/html": [
       "<div>\n",
       "<style scoped>\n",
       "    .dataframe tbody tr th:only-of-type {\n",
       "        vertical-align: middle;\n",
       "    }\n",
       "\n",
       "    .dataframe tbody tr th {\n",
       "        vertical-align: top;\n",
       "    }\n",
       "\n",
       "    .dataframe thead th {\n",
       "        text-align: right;\n",
       "    }\n",
       "</style>\n",
       "<table border=\"1\" class=\"dataframe\">\n",
       "  <thead>\n",
       "    <tr style=\"text-align: right;\">\n",
       "      <th></th>\n",
       "      <th>B</th>\n",
       "    </tr>\n",
       "    <tr>\n",
       "      <th>date</th>\n",
       "      <th></th>\n",
       "    </tr>\n",
       "  </thead>\n",
       "  <tbody>\n",
       "    <tr>\n",
       "      <th>2011-12-20</th>\n",
       "      <td>96.250</td>\n",
       "    </tr>\n",
       "    <tr>\n",
       "      <th>2011-12-21</th>\n",
       "      <td>52.290</td>\n",
       "    </tr>\n",
       "    <tr>\n",
       "      <th>2011-12-22</th>\n",
       "      <td>59.262</td>\n",
       "    </tr>\n",
       "    <tr>\n",
       "      <th>2011-12-23</th>\n",
       "      <td>21.950</td>\n",
       "    </tr>\n",
       "    <tr>\n",
       "      <th>2011-12-28</th>\n",
       "      <td>11.289</td>\n",
       "    </tr>\n",
       "  </tbody>\n",
       "</table>\n",
       "</div>"
      ],
      "text/plain": [
       "                 B\n",
       "date              \n",
       "2011-12-20  96.250\n",
       "2011-12-21  52.290\n",
       "2011-12-22  59.262\n",
       "2011-12-23  21.950\n",
       "2011-12-28  11.289"
      ]
     },
     "execution_count": 39,
     "metadata": {},
     "output_type": "execute_result"
    }
   ],
   "source": [
    "df = df.rename(columns={'Bonds, USD billion': 'B'})\n",
    "df.head()"
   ]
  },
  {
   "cell_type": "code",
   "execution_count": 40,
   "id": "5a5a4fec-ebed-46f5-bac9-8f2472ec07b2",
   "metadata": {},
   "outputs": [
    {
     "name": "stdout",
     "output_type": "stream",
     "text": [
      "<class 'pandas.core.frame.DataFrame'>\n",
      "DatetimeIndex: 2845 entries, 2011-12-20 to 2023-12-08\n",
      "Data columns (total 1 columns):\n",
      " #   Column  Non-Null Count  Dtype  \n",
      "---  ------  --------------  -----  \n",
      " 0   B       2845 non-null   float64\n",
      "dtypes: float64(1)\n",
      "memory usage: 44.5 KB\n"
     ]
    }
   ],
   "source": [
    "df.info()"
   ]
  },
  {
   "cell_type": "code",
   "execution_count": 41,
   "id": "e46cf35d-c139-48c9-907a-561793636e03",
   "metadata": {},
   "outputs": [],
   "source": [
    "df.index.name='date'\n",
    "df.index=pd.to_datetime(df.index)"
   ]
  },
  {
   "cell_type": "code",
   "execution_count": 42,
   "id": "45b65600-de2c-4a9d-a606-77f6c084de95",
   "metadata": {},
   "outputs": [
    {
     "name": "stdout",
     "output_type": "stream",
     "text": [
      "<class 'pandas.core.frame.DataFrame'>\n",
      "DatetimeIndex: 2845 entries, 2011-12-20 to 2023-12-08\n",
      "Data columns (total 1 columns):\n",
      " #   Column  Non-Null Count  Dtype  \n",
      "---  ------  --------------  -----  \n",
      " 0   B       2845 non-null   float64\n",
      "dtypes: float64(1)\n",
      "memory usage: 44.5 KB\n"
     ]
    }
   ],
   "source": [
    "df.info()"
   ]
  },
  {
   "cell_type": "code",
   "execution_count": 43,
   "id": "a63715bc-a594-4167-9acd-5a9b7a1fe248",
   "metadata": {},
   "outputs": [],
   "source": [
    "df.to_csv('Bonds_processed.csv') "
   ]
  },
  {
   "cell_type": "code",
   "execution_count": null,
   "id": "cce774d8-a101-4c99-a619-a0c9c6519b47",
   "metadata": {},
   "outputs": [],
   "source": []
  }
 ],
 "metadata": {
  "kernelspec": {
   "display_name": "Python 3 (ipykernel)",
   "language": "python",
   "name": "python3"
  },
  "language_info": {
   "codemirror_mode": {
    "name": "ipython",
    "version": 3
   },
   "file_extension": ".py",
   "mimetype": "text/x-python",
   "name": "python",
   "nbconvert_exporter": "python",
   "pygments_lexer": "ipython3",
   "version": "3.11.6"
  }
 },
 "nbformat": 4,
 "nbformat_minor": 5
}
